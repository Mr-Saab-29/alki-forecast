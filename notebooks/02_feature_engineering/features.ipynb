{
 "cells": [
  {
   "cell_type": "code",
   "execution_count": 35,
   "id": "15dbf736",
   "metadata": {},
   "outputs": [
    {
     "name": "stdout",
     "output_type": "stream",
     "text": [
      "The autoreload extension is already loaded. To reload it, use:\n",
      "  %reload_ext autoreload\n"
     ]
    }
   ],
   "source": [
    "%load_ext autoreload\n",
    "%autoreload 2"
   ]
  },
  {
   "cell_type": "code",
   "execution_count": 36,
   "id": "3ca572e3",
   "metadata": {},
   "outputs": [],
   "source": [
    "from src.features.build_features import build_features\n",
    "from src.features.future_features import build_future_features\n",
    "import pandas as pd"
   ]
  },
  {
   "cell_type": "code",
   "execution_count": 32,
   "id": "253ef43b",
   "metadata": {},
   "outputs": [],
   "source": [
    "df_clean = pd.read_csv(\"data/processed/cleaned_data.csv\")"
   ]
  },
  {
   "cell_type": "code",
   "execution_count": 33,
   "id": "0b129413",
   "metadata": {},
   "outputs": [
    {
     "data": {
      "application/vnd.microsoft.datawrangler.viewer.v0+json": {
       "columns": [
        {
         "name": "index",
         "rawType": "int64",
         "type": "integer"
        },
        {
         "name": "DATE",
         "rawType": "object",
         "type": "string"
        },
        {
         "name": "CUSTOMER",
         "rawType": "object",
         "type": "string"
        },
        {
         "name": "QUANTITY",
         "rawType": "float64",
         "type": "float"
        }
       ],
       "ref": "e225af65-3b49-4e7d-a624-bb8910324669",
       "rows": [
        [
         "0",
         "2020-07-27",
         "ARGALYS",
         "1.0"
        ],
        [
         "1",
         "2020-07-28",
         "ARGALYS",
         "3.0"
        ],
        [
         "2",
         "2020-07-29",
         "ARGALYS",
         "14.0"
        ],
        [
         "3",
         "2020-07-30",
         "ARGALYS",
         "2.0"
        ],
        [
         "4",
         "2020-07-31",
         "ARGALYS",
         "13.0"
        ]
       ],
       "shape": {
        "columns": 3,
        "rows": 5
       }
      },
      "text/html": [
       "<div>\n",
       "<style scoped>\n",
       "    .dataframe tbody tr th:only-of-type {\n",
       "        vertical-align: middle;\n",
       "    }\n",
       "\n",
       "    .dataframe tbody tr th {\n",
       "        vertical-align: top;\n",
       "    }\n",
       "\n",
       "    .dataframe thead th {\n",
       "        text-align: right;\n",
       "    }\n",
       "</style>\n",
       "<table border=\"1\" class=\"dataframe\">\n",
       "  <thead>\n",
       "    <tr style=\"text-align: right;\">\n",
       "      <th></th>\n",
       "      <th>DATE</th>\n",
       "      <th>CUSTOMER</th>\n",
       "      <th>QUANTITY</th>\n",
       "    </tr>\n",
       "  </thead>\n",
       "  <tbody>\n",
       "    <tr>\n",
       "      <th>0</th>\n",
       "      <td>2020-07-27</td>\n",
       "      <td>ARGALYS</td>\n",
       "      <td>1.0</td>\n",
       "    </tr>\n",
       "    <tr>\n",
       "      <th>1</th>\n",
       "      <td>2020-07-28</td>\n",
       "      <td>ARGALYS</td>\n",
       "      <td>3.0</td>\n",
       "    </tr>\n",
       "    <tr>\n",
       "      <th>2</th>\n",
       "      <td>2020-07-29</td>\n",
       "      <td>ARGALYS</td>\n",
       "      <td>14.0</td>\n",
       "    </tr>\n",
       "    <tr>\n",
       "      <th>3</th>\n",
       "      <td>2020-07-30</td>\n",
       "      <td>ARGALYS</td>\n",
       "      <td>2.0</td>\n",
       "    </tr>\n",
       "    <tr>\n",
       "      <th>4</th>\n",
       "      <td>2020-07-31</td>\n",
       "      <td>ARGALYS</td>\n",
       "      <td>13.0</td>\n",
       "    </tr>\n",
       "  </tbody>\n",
       "</table>\n",
       "</div>"
      ],
      "text/plain": [
       "         DATE CUSTOMER  QUANTITY\n",
       "0  2020-07-27  ARGALYS       1.0\n",
       "1  2020-07-28  ARGALYS       3.0\n",
       "2  2020-07-29  ARGALYS      14.0\n",
       "3  2020-07-30  ARGALYS       2.0\n",
       "4  2020-07-31  ARGALYS      13.0"
      ]
     },
     "execution_count": 33,
     "metadata": {},
     "output_type": "execute_result"
    }
   ],
   "source": [
    "df_clean.head()"
   ]
  },
  {
   "cell_type": "code",
   "execution_count": 27,
   "id": "d1a64435",
   "metadata": {},
   "outputs": [],
   "source": [
    "features_df = build_features(\n",
    "    df_clean,\n",
    "    max_lag=30,\n",
    "    roll_windows=[7, 14, 30],\n",
    "    holiday_country=\"FR\",\n",
    "    holiday_subdiv_map=None,\n",
    "    holiday_window=3\n",
    ")"
   ]
  },
  {
   "cell_type": "code",
   "execution_count": 39,
   "id": "d2162862",
   "metadata": {},
   "outputs": [],
   "source": [
    "features_df.to_csv(\"data/processed/feature_data.csv\", index=False)"
   ]
  },
  {
   "cell_type": "code",
   "execution_count": 37,
   "id": "31f4fab5",
   "metadata": {},
   "outputs": [],
   "source": [
    "future = build_future_features(df_clean, horizon=30)"
   ]
  },
  {
   "cell_type": "code",
   "execution_count": 38,
   "id": "0901094b",
   "metadata": {},
   "outputs": [
    {
     "data": {
      "application/vnd.microsoft.datawrangler.viewer.v0+json": {
       "columns": [
        {
         "name": "index",
         "rawType": "int64",
         "type": "integer"
        },
        {
         "name": "DATE",
         "rawType": "datetime64[ns]",
         "type": "datetime"
        },
        {
         "name": "CUSTOMER",
         "rawType": "object",
         "type": "string"
        },
        {
         "name": "dayofweek",
         "rawType": "int32",
         "type": "integer"
        },
        {
         "name": "month",
         "rawType": "int32",
         "type": "integer"
        },
        {
         "name": "dayofmonth",
         "rawType": "int32",
         "type": "integer"
        },
        {
         "name": "is_weekend",
         "rawType": "int64",
         "type": "integer"
        },
        {
         "name": "is_month_start",
         "rawType": "int64",
         "type": "integer"
        },
        {
         "name": "is_month_end",
         "rawType": "int64",
         "type": "integer"
        },
        {
         "name": "dow_sin",
         "rawType": "float64",
         "type": "float"
        },
        {
         "name": "dow_cos",
         "rawType": "float64",
         "type": "float"
        },
        {
         "name": "month_sin",
         "rawType": "float64",
         "type": "float"
        },
        {
         "name": "month_cos",
         "rawType": "float64",
         "type": "float"
        },
        {
         "name": "time_index",
         "rawType": "int64",
         "type": "integer"
        },
        {
         "name": "time_norm",
         "rawType": "float64",
         "type": "float"
        },
        {
         "name": "is_holiday",
         "rawType": "int64",
         "type": "integer"
        },
        {
         "name": "days_since_holiday",
         "rawType": "float64",
         "type": "float"
        },
        {
         "name": "days_to_next_holiday",
         "rawType": "float64",
         "type": "float"
        },
        {
         "name": "is_holiday_window_1",
         "rawType": "int64",
         "type": "integer"
        },
        {
         "name": "is_holiday_window_2",
         "rawType": "int64",
         "type": "integer"
        },
        {
         "name": "is_holiday_window_3",
         "rawType": "int64",
         "type": "integer"
        },
        {
         "name": "lag_1",
         "rawType": "float64",
         "type": "float"
        },
        {
         "name": "lag_2",
         "rawType": "float64",
         "type": "float"
        },
        {
         "name": "lag_3",
         "rawType": "float64",
         "type": "float"
        },
        {
         "name": "lag_4",
         "rawType": "float64",
         "type": "float"
        },
        {
         "name": "lag_5",
         "rawType": "float64",
         "type": "float"
        },
        {
         "name": "lag_6",
         "rawType": "float64",
         "type": "float"
        },
        {
         "name": "lag_7",
         "rawType": "float64",
         "type": "float"
        },
        {
         "name": "lag_8",
         "rawType": "float64",
         "type": "float"
        },
        {
         "name": "lag_9",
         "rawType": "float64",
         "type": "float"
        },
        {
         "name": "lag_10",
         "rawType": "float64",
         "type": "float"
        },
        {
         "name": "lag_11",
         "rawType": "float64",
         "type": "float"
        },
        {
         "name": "lag_12",
         "rawType": "float64",
         "type": "float"
        },
        {
         "name": "lag_13",
         "rawType": "float64",
         "type": "float"
        },
        {
         "name": "lag_14",
         "rawType": "float64",
         "type": "float"
        },
        {
         "name": "lag_15",
         "rawType": "float64",
         "type": "float"
        },
        {
         "name": "lag_16",
         "rawType": "float64",
         "type": "float"
        },
        {
         "name": "lag_17",
         "rawType": "float64",
         "type": "float"
        },
        {
         "name": "lag_18",
         "rawType": "float64",
         "type": "float"
        },
        {
         "name": "lag_19",
         "rawType": "float64",
         "type": "float"
        },
        {
         "name": "lag_20",
         "rawType": "float64",
         "type": "float"
        },
        {
         "name": "lag_21",
         "rawType": "float64",
         "type": "float"
        },
        {
         "name": "lag_22",
         "rawType": "float64",
         "type": "float"
        },
        {
         "name": "lag_23",
         "rawType": "float64",
         "type": "float"
        },
        {
         "name": "lag_24",
         "rawType": "float64",
         "type": "float"
        },
        {
         "name": "lag_25",
         "rawType": "float64",
         "type": "float"
        },
        {
         "name": "lag_26",
         "rawType": "float64",
         "type": "float"
        },
        {
         "name": "lag_27",
         "rawType": "float64",
         "type": "float"
        },
        {
         "name": "lag_28",
         "rawType": "float64",
         "type": "float"
        },
        {
         "name": "lag_29",
         "rawType": "float64",
         "type": "float"
        },
        {
         "name": "lag_30",
         "rawType": "float64",
         "type": "float"
        },
        {
         "name": "roll_mean_7",
         "rawType": "float64",
         "type": "float"
        },
        {
         "name": "roll_std_7",
         "rawType": "float64",
         "type": "float"
        },
        {
         "name": "roll_min_7",
         "rawType": "float64",
         "type": "float"
        },
        {
         "name": "roll_max_7",
         "rawType": "float64",
         "type": "float"
        },
        {
         "name": "roll_mean_14",
         "rawType": "float64",
         "type": "float"
        },
        {
         "name": "roll_std_14",
         "rawType": "float64",
         "type": "float"
        },
        {
         "name": "roll_min_14",
         "rawType": "float64",
         "type": "float"
        },
        {
         "name": "roll_max_14",
         "rawType": "float64",
         "type": "float"
        },
        {
         "name": "roll_mean_30",
         "rawType": "float64",
         "type": "float"
        },
        {
         "name": "roll_std_30",
         "rawType": "float64",
         "type": "float"
        },
        {
         "name": "roll_min_30",
         "rawType": "float64",
         "type": "float"
        },
        {
         "name": "roll_max_30",
         "rawType": "float64",
         "type": "float"
        }
       ],
       "ref": "f1c7c165-57af-47ae-87c6-97a939f2cd63",
       "rows": [
        [
         "0",
         "2023-05-23 00:00:00",
         "ARGALYS",
         "1",
         "5",
         "23",
         "0",
         "0",
         "0",
         "0.7818314824680298",
         "0.6234898018587336",
         "0.49999999999999994",
         "-0.8660254037844387",
         "1030",
         "0.9716981132075472",
         "0",
         "inf",
         "6.0",
         "0",
         "0",
         "0",
         null,
         null,
         null,
         null,
         null,
         null,
         null,
         null,
         null,
         null,
         null,
         null,
         null,
         null,
         null,
         null,
         null,
         null,
         null,
         null,
         null,
         null,
         null,
         null,
         null,
         null,
         null,
         null,
         null,
         null,
         null,
         null,
         null,
         null,
         null,
         null,
         null,
         null,
         null,
         null,
         null,
         null
        ],
        [
         "1",
         "2023-05-24 00:00:00",
         "ARGALYS",
         "2",
         "5",
         "24",
         "0",
         "0",
         "0",
         "0.9749279121818236",
         "-0.22252093395631434",
         "0.49999999999999994",
         "-0.8660254037844387",
         "1031",
         "0.9726415094339622",
         "0",
         "inf",
         "5.0",
         "0",
         "0",
         "0",
         null,
         null,
         null,
         null,
         null,
         null,
         null,
         null,
         null,
         null,
         null,
         null,
         null,
         null,
         null,
         null,
         null,
         null,
         null,
         null,
         null,
         null,
         null,
         null,
         null,
         null,
         null,
         null,
         null,
         null,
         null,
         null,
         null,
         null,
         null,
         null,
         null,
         null,
         null,
         null,
         null,
         null
        ],
        [
         "2",
         "2023-05-25 00:00:00",
         "ARGALYS",
         "3",
         "5",
         "25",
         "0",
         "0",
         "0",
         "0.43388373911755823",
         "-0.900968867902419",
         "0.49999999999999994",
         "-0.8660254037844387",
         "1032",
         "0.9735849056603774",
         "0",
         "inf",
         "4.0",
         "0",
         "0",
         "0",
         null,
         null,
         null,
         null,
         null,
         null,
         null,
         null,
         null,
         null,
         null,
         null,
         null,
         null,
         null,
         null,
         null,
         null,
         null,
         null,
         null,
         null,
         null,
         null,
         null,
         null,
         null,
         null,
         null,
         null,
         null,
         null,
         null,
         null,
         null,
         null,
         null,
         null,
         null,
         null,
         null,
         null
        ],
        [
         "3",
         "2023-05-26 00:00:00",
         "ARGALYS",
         "4",
         "5",
         "26",
         "0",
         "0",
         "0",
         "-0.433883739117558",
         "-0.9009688679024191",
         "0.49999999999999994",
         "-0.8660254037844387",
         "1033",
         "0.9745283018867924",
         "0",
         "inf",
         "3.0",
         "0",
         "0",
         "1",
         null,
         null,
         null,
         null,
         null,
         null,
         null,
         null,
         null,
         null,
         null,
         null,
         null,
         null,
         null,
         null,
         null,
         null,
         null,
         null,
         null,
         null,
         null,
         null,
         null,
         null,
         null,
         null,
         null,
         null,
         null,
         null,
         null,
         null,
         null,
         null,
         null,
         null,
         null,
         null,
         null,
         null
        ],
        [
         "4",
         "2023-05-27 00:00:00",
         "ARGALYS",
         "5",
         "5",
         "27",
         "1",
         "0",
         "0",
         "-0.9749279121818236",
         "-0.2225209339563146",
         "0.49999999999999994",
         "-0.8660254037844387",
         "1034",
         "0.9754716981132076",
         "0",
         "inf",
         "2.0",
         "0",
         "1",
         "0",
         null,
         null,
         null,
         null,
         null,
         null,
         null,
         null,
         null,
         null,
         null,
         null,
         null,
         null,
         null,
         null,
         null,
         null,
         null,
         null,
         null,
         null,
         null,
         null,
         null,
         null,
         null,
         null,
         null,
         null,
         null,
         null,
         null,
         null,
         null,
         null,
         null,
         null,
         null,
         null,
         null,
         null
        ]
       ],
       "shape": {
        "columns": 62,
        "rows": 5
       }
      },
      "text/html": [
       "<div>\n",
       "<style scoped>\n",
       "    .dataframe tbody tr th:only-of-type {\n",
       "        vertical-align: middle;\n",
       "    }\n",
       "\n",
       "    .dataframe tbody tr th {\n",
       "        vertical-align: top;\n",
       "    }\n",
       "\n",
       "    .dataframe thead th {\n",
       "        text-align: right;\n",
       "    }\n",
       "</style>\n",
       "<table border=\"1\" class=\"dataframe\">\n",
       "  <thead>\n",
       "    <tr style=\"text-align: right;\">\n",
       "      <th></th>\n",
       "      <th>DATE</th>\n",
       "      <th>CUSTOMER</th>\n",
       "      <th>dayofweek</th>\n",
       "      <th>month</th>\n",
       "      <th>dayofmonth</th>\n",
       "      <th>is_weekend</th>\n",
       "      <th>is_month_start</th>\n",
       "      <th>is_month_end</th>\n",
       "      <th>dow_sin</th>\n",
       "      <th>dow_cos</th>\n",
       "      <th>...</th>\n",
       "      <th>roll_min_7</th>\n",
       "      <th>roll_max_7</th>\n",
       "      <th>roll_mean_14</th>\n",
       "      <th>roll_std_14</th>\n",
       "      <th>roll_min_14</th>\n",
       "      <th>roll_max_14</th>\n",
       "      <th>roll_mean_30</th>\n",
       "      <th>roll_std_30</th>\n",
       "      <th>roll_min_30</th>\n",
       "      <th>roll_max_30</th>\n",
       "    </tr>\n",
       "  </thead>\n",
       "  <tbody>\n",
       "    <tr>\n",
       "      <th>0</th>\n",
       "      <td>2023-05-23</td>\n",
       "      <td>ARGALYS</td>\n",
       "      <td>1</td>\n",
       "      <td>5</td>\n",
       "      <td>23</td>\n",
       "      <td>0</td>\n",
       "      <td>0</td>\n",
       "      <td>0</td>\n",
       "      <td>0.781831</td>\n",
       "      <td>0.623490</td>\n",
       "      <td>...</td>\n",
       "      <td>NaN</td>\n",
       "      <td>NaN</td>\n",
       "      <td>NaN</td>\n",
       "      <td>NaN</td>\n",
       "      <td>NaN</td>\n",
       "      <td>NaN</td>\n",
       "      <td>NaN</td>\n",
       "      <td>NaN</td>\n",
       "      <td>NaN</td>\n",
       "      <td>NaN</td>\n",
       "    </tr>\n",
       "    <tr>\n",
       "      <th>1</th>\n",
       "      <td>2023-05-24</td>\n",
       "      <td>ARGALYS</td>\n",
       "      <td>2</td>\n",
       "      <td>5</td>\n",
       "      <td>24</td>\n",
       "      <td>0</td>\n",
       "      <td>0</td>\n",
       "      <td>0</td>\n",
       "      <td>0.974928</td>\n",
       "      <td>-0.222521</td>\n",
       "      <td>...</td>\n",
       "      <td>NaN</td>\n",
       "      <td>NaN</td>\n",
       "      <td>NaN</td>\n",
       "      <td>NaN</td>\n",
       "      <td>NaN</td>\n",
       "      <td>NaN</td>\n",
       "      <td>NaN</td>\n",
       "      <td>NaN</td>\n",
       "      <td>NaN</td>\n",
       "      <td>NaN</td>\n",
       "    </tr>\n",
       "    <tr>\n",
       "      <th>2</th>\n",
       "      <td>2023-05-25</td>\n",
       "      <td>ARGALYS</td>\n",
       "      <td>3</td>\n",
       "      <td>5</td>\n",
       "      <td>25</td>\n",
       "      <td>0</td>\n",
       "      <td>0</td>\n",
       "      <td>0</td>\n",
       "      <td>0.433884</td>\n",
       "      <td>-0.900969</td>\n",
       "      <td>...</td>\n",
       "      <td>NaN</td>\n",
       "      <td>NaN</td>\n",
       "      <td>NaN</td>\n",
       "      <td>NaN</td>\n",
       "      <td>NaN</td>\n",
       "      <td>NaN</td>\n",
       "      <td>NaN</td>\n",
       "      <td>NaN</td>\n",
       "      <td>NaN</td>\n",
       "      <td>NaN</td>\n",
       "    </tr>\n",
       "    <tr>\n",
       "      <th>3</th>\n",
       "      <td>2023-05-26</td>\n",
       "      <td>ARGALYS</td>\n",
       "      <td>4</td>\n",
       "      <td>5</td>\n",
       "      <td>26</td>\n",
       "      <td>0</td>\n",
       "      <td>0</td>\n",
       "      <td>0</td>\n",
       "      <td>-0.433884</td>\n",
       "      <td>-0.900969</td>\n",
       "      <td>...</td>\n",
       "      <td>NaN</td>\n",
       "      <td>NaN</td>\n",
       "      <td>NaN</td>\n",
       "      <td>NaN</td>\n",
       "      <td>NaN</td>\n",
       "      <td>NaN</td>\n",
       "      <td>NaN</td>\n",
       "      <td>NaN</td>\n",
       "      <td>NaN</td>\n",
       "      <td>NaN</td>\n",
       "    </tr>\n",
       "    <tr>\n",
       "      <th>4</th>\n",
       "      <td>2023-05-27</td>\n",
       "      <td>ARGALYS</td>\n",
       "      <td>5</td>\n",
       "      <td>5</td>\n",
       "      <td>27</td>\n",
       "      <td>1</td>\n",
       "      <td>0</td>\n",
       "      <td>0</td>\n",
       "      <td>-0.974928</td>\n",
       "      <td>-0.222521</td>\n",
       "      <td>...</td>\n",
       "      <td>NaN</td>\n",
       "      <td>NaN</td>\n",
       "      <td>NaN</td>\n",
       "      <td>NaN</td>\n",
       "      <td>NaN</td>\n",
       "      <td>NaN</td>\n",
       "      <td>NaN</td>\n",
       "      <td>NaN</td>\n",
       "      <td>NaN</td>\n",
       "      <td>NaN</td>\n",
       "    </tr>\n",
       "  </tbody>\n",
       "</table>\n",
       "<p>5 rows × 62 columns</p>\n",
       "</div>"
      ],
      "text/plain": [
       "        DATE CUSTOMER  dayofweek  month  dayofmonth  is_weekend  \\\n",
       "0 2023-05-23  ARGALYS          1      5          23           0   \n",
       "1 2023-05-24  ARGALYS          2      5          24           0   \n",
       "2 2023-05-25  ARGALYS          3      5          25           0   \n",
       "3 2023-05-26  ARGALYS          4      5          26           0   \n",
       "4 2023-05-27  ARGALYS          5      5          27           1   \n",
       "\n",
       "   is_month_start  is_month_end   dow_sin   dow_cos  ...  roll_min_7  \\\n",
       "0               0             0  0.781831  0.623490  ...         NaN   \n",
       "1               0             0  0.974928 -0.222521  ...         NaN   \n",
       "2               0             0  0.433884 -0.900969  ...         NaN   \n",
       "3               0             0 -0.433884 -0.900969  ...         NaN   \n",
       "4               0             0 -0.974928 -0.222521  ...         NaN   \n",
       "\n",
       "   roll_max_7  roll_mean_14  roll_std_14  roll_min_14  roll_max_14  \\\n",
       "0         NaN           NaN          NaN          NaN          NaN   \n",
       "1         NaN           NaN          NaN          NaN          NaN   \n",
       "2         NaN           NaN          NaN          NaN          NaN   \n",
       "3         NaN           NaN          NaN          NaN          NaN   \n",
       "4         NaN           NaN          NaN          NaN          NaN   \n",
       "\n",
       "   roll_mean_30  roll_std_30  roll_min_30  roll_max_30  \n",
       "0           NaN          NaN          NaN          NaN  \n",
       "1           NaN          NaN          NaN          NaN  \n",
       "2           NaN          NaN          NaN          NaN  \n",
       "3           NaN          NaN          NaN          NaN  \n",
       "4           NaN          NaN          NaN          NaN  \n",
       "\n",
       "[5 rows x 62 columns]"
      ]
     },
     "execution_count": 38,
     "metadata": {},
     "output_type": "execute_result"
    }
   ],
   "source": [
    "future.head()"
   ]
  },
  {
   "cell_type": "code",
   "execution_count": null,
   "id": "9a2645bc",
   "metadata": {},
   "outputs": [],
   "source": []
  }
 ],
 "metadata": {
  "kernelspec": {
   "display_name": "alki-forecast (3.13.7)",
   "language": "python",
   "name": "python3"
  },
  "language_info": {
   "codemirror_mode": {
    "name": "ipython",
    "version": 3
   },
   "file_extension": ".py",
   "mimetype": "text/x-python",
   "name": "python",
   "nbconvert_exporter": "python",
   "pygments_lexer": "ipython3",
   "version": "3.13.7"
  }
 },
 "nbformat": 4,
 "nbformat_minor": 5
}
