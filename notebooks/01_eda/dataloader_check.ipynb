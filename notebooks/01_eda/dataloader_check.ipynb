{
 "cells": [
  {
   "cell_type": "code",
   "execution_count": 9,
   "id": "fd4d9f2a",
   "metadata": {},
   "outputs": [],
   "source": [
    "%load_ext autoreload\n",
    "%autoreload 2"
   ]
  },
  {
   "cell_type": "code",
   "execution_count": 13,
   "id": "5093405d",
   "metadata": {},
   "outputs": [
    {
     "name": "stdout",
     "output_type": "stream",
     "text": [
      "The autoreload extension is already loaded. To reload it, use:\n",
      "  %reload_ext autoreload\n",
      "Using loader from: /Users/saab/Documents/DSBA/Interviews/Alki/alki-forecast/src/data/loader.py\n",
      "def load_raw(path: str) -> pd.DataFrame:\n",
      "    \"\"\"\n",
      "    Load raw data from a CSV file. Ensure required columns are present\n",
      "    and parse dates.\n",
      "\n",
      "    Args:\n",
      "        path (str): Path to the CSV file.\n",
      "    \n",
      "    Returns:\n",
      "        pd.DataFrame: Cleaned DataFrame with correct types.\n",
      "\n",
      "    \"\"\"\n",
      "    # Read; keep_default_na=True makes 'nan','NaN','N/A' => NaN\n",
      "    df = pd.read_csv(path, sep=\";\", dtype={\"CUSTOMER\": \"string\"})\n",
      "\n",
      "    # Schema check\n",
      "    missing = [c for c in REQUIRED_COLUMNS if c not in df.columns]\n",
      "    if missing:\n",
      "        raise ValueError(f\"Missing required columns: {missing}\")\n",
      "\n",
      "    # Parse types\n",
      "    df[\"DATE\"] = pd.to_datetime(df[\"DATE\"], errors=\"coerce\", dayfirst=True)\n",
      "    df[\"QUANTITY\"] = pd.to_numeric(df[\"QUANTITY\"], errors=\"coerce\")\n",
      "\n",
      "    # 1) drop fully empty rows (often trailing garbage)\n",
      "    df = df.dropna(how=\"all\")\n",
      "\n",
      "    # 2) drop rows missing DATE or CUSTOMER (still NA because 'string' dtype preserves NA)\n",
      "    df = df.dropna(subset=[\"DATE\", \"CUSTOMER\"])\n",
      "\n",
      "    # 3) clean CUSTOMER text and remove sentinel empties\n",
      "    df[\"CUSTOMER\"] = df[\"CUSTOMER\"].str.strip()\n",
      "    df = df[~df[\"CUSTOMER\"].str.lower().isin([\"\", \"nan\", \"na\", \"none\"])]\n",
      "\n",
      "    # 4) final sanity: no NaT in DATE\n",
      "    if df[\"DATE\"].isna().any():\n",
      "        bad = df[df[\"DATE\"].isna()]\n",
      "        # if you prefer to silently drop them, uncomment the next line and remove the error\n",
      "        # df = df.dropna(subset=[\"DATE\"])\n",
      "        raise ValueError(f\"Invalid dates remain after cleaning:\\n{bad}\")\n",
      "\n",
      "    # Sort & return\n",
      "    df = df.sort_values([\"CUSTOMER\", \"DATE\"]).reset_index(drop=True)\n",
      "    return df\n",
      "\n"
     ]
    }
   ],
   "source": [
    "# Always reload changed modules\n",
    "%load_ext autoreload\n",
    "%autoreload 2\n",
    "\n",
    "import importlib, inspect\n",
    "import src.data.loader as loader\n",
    "importlib.reload(loader)          # force reload once\n",
    "\n",
    "print(\"Using loader from:\", loader.__file__)\n",
    "print(inspect.getsource(loader.load_raw))  # sanity: shows the exact code the notebook is using"
   ]
  },
  {
   "cell_type": "code",
   "execution_count": 15,
   "id": "a104b21f",
   "metadata": {},
   "outputs": [],
   "source": [
    "from src.data.loader import load_raw, reindex_daily\n",
    "from src.data.validation import validate_raw, print_validation_report"
   ]
  },
  {
   "cell_type": "code",
   "execution_count": 16,
   "id": "f87519a0",
   "metadata": {},
   "outputs": [
    {
     "name": "stdout",
     "output_type": "stream",
     "text": [
      "      CUSTOMER  rows      start        end  duplicates_same_date  nan_qty  negative_qty  nonfinite_qty  noninteger_qty  missing_days  max_gap_days\n",
      "       ARGALYS   830 2019-08-01 2023-06-02                     0        0             0              0               0           572            22\n",
      "LES MIRACULEUX   950 2019-05-10 2023-06-02                     0        0             0              0               0           535           208\n",
      "  MINCI DELICE  1531 2017-09-30 2023-06-02                     0        0             0              0               0           541             4\n",
      "    NUTRAVANCE  2014 2015-08-26 2023-06-02                     0        0             0              0               0           824            13\n",
      "        GLOBAL  5325 2015-08-26 2023-06-02                     0        0             0              0               0          2472           208\n",
      "\n",
      "Validation: PASS\n"
     ]
    }
   ],
   "source": [
    "df = load_raw(\"data/raw/train set.csv\")       # strict load\n",
    "rep, ok = validate_raw(df)                # build report\n",
    "print_validation_report(rep, ok)          # pretty print\n",
    "\n",
    "# (optional) daily index for EDA-only visuals\n",
    "df_daily = reindex_daily(df)"
   ]
  },
  {
   "cell_type": "code",
   "execution_count": 17,
   "id": "eef13019",
   "metadata": {},
   "outputs": [
    {
     "data": {
      "application/vnd.microsoft.datawrangler.viewer.v0+json": {
       "columns": [
        {
         "name": "index",
         "rawType": "int64",
         "type": "integer"
        },
        {
         "name": "DATE",
         "rawType": "datetime64[ns]",
         "type": "datetime"
        },
        {
         "name": "CUSTOMER",
         "rawType": "object",
         "type": "string"
        },
        {
         "name": "QUANTITY",
         "rawType": "float64",
         "type": "float"
        }
       ],
       "ref": "91ab4d5a-3a9b-4aff-acc6-b1690ec72c2f",
       "rows": [
        [
         "0",
         "2019-08-01 00:00:00",
         "ARGALYS",
         "6.0"
        ],
        [
         "1",
         "2019-08-02 00:00:00",
         "ARGALYS",
         null
        ],
        [
         "2",
         "2019-08-03 00:00:00",
         "ARGALYS",
         null
        ],
        [
         "3",
         "2019-08-04 00:00:00",
         "ARGALYS",
         null
        ],
        [
         "4",
         "2019-08-05 00:00:00",
         "ARGALYS",
         null
        ]
       ],
       "shape": {
        "columns": 3,
        "rows": 5
       }
      },
      "text/html": [
       "<div>\n",
       "<style scoped>\n",
       "    .dataframe tbody tr th:only-of-type {\n",
       "        vertical-align: middle;\n",
       "    }\n",
       "\n",
       "    .dataframe tbody tr th {\n",
       "        vertical-align: top;\n",
       "    }\n",
       "\n",
       "    .dataframe thead th {\n",
       "        text-align: right;\n",
       "    }\n",
       "</style>\n",
       "<table border=\"1\" class=\"dataframe\">\n",
       "  <thead>\n",
       "    <tr style=\"text-align: right;\">\n",
       "      <th></th>\n",
       "      <th>DATE</th>\n",
       "      <th>CUSTOMER</th>\n",
       "      <th>QUANTITY</th>\n",
       "    </tr>\n",
       "  </thead>\n",
       "  <tbody>\n",
       "    <tr>\n",
       "      <th>0</th>\n",
       "      <td>2019-08-01</td>\n",
       "      <td>ARGALYS</td>\n",
       "      <td>6.0</td>\n",
       "    </tr>\n",
       "    <tr>\n",
       "      <th>1</th>\n",
       "      <td>2019-08-02</td>\n",
       "      <td>ARGALYS</td>\n",
       "      <td>NaN</td>\n",
       "    </tr>\n",
       "    <tr>\n",
       "      <th>2</th>\n",
       "      <td>2019-08-03</td>\n",
       "      <td>ARGALYS</td>\n",
       "      <td>NaN</td>\n",
       "    </tr>\n",
       "    <tr>\n",
       "      <th>3</th>\n",
       "      <td>2019-08-04</td>\n",
       "      <td>ARGALYS</td>\n",
       "      <td>NaN</td>\n",
       "    </tr>\n",
       "    <tr>\n",
       "      <th>4</th>\n",
       "      <td>2019-08-05</td>\n",
       "      <td>ARGALYS</td>\n",
       "      <td>NaN</td>\n",
       "    </tr>\n",
       "  </tbody>\n",
       "</table>\n",
       "</div>"
      ],
      "text/plain": [
       "        DATE CUSTOMER  QUANTITY\n",
       "0 2019-08-01  ARGALYS       6.0\n",
       "1 2019-08-02  ARGALYS       NaN\n",
       "2 2019-08-03  ARGALYS       NaN\n",
       "3 2019-08-04  ARGALYS       NaN\n",
       "4 2019-08-05  ARGALYS       NaN"
      ]
     },
     "execution_count": 17,
     "metadata": {},
     "output_type": "execute_result"
    }
   ],
   "source": [
    "df_daily.head()"
   ]
  },
  {
   "cell_type": "code",
   "execution_count": null,
   "id": "60fb3934",
   "metadata": {},
   "outputs": [],
   "source": []
  }
 ],
 "metadata": {
  "kernelspec": {
   "display_name": "alki-forecast (3.13.7)",
   "language": "python",
   "name": "python3"
  },
  "language_info": {
   "codemirror_mode": {
    "name": "ipython",
    "version": 3
   },
   "file_extension": ".py",
   "mimetype": "text/x-python",
   "name": "python",
   "nbconvert_exporter": "python",
   "pygments_lexer": "ipython3",
   "version": "3.13.7"
  }
 },
 "nbformat": 4,
 "nbformat_minor": 5
}
